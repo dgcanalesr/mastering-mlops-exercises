{
 "cells": [
  {
   "cell_type": "markdown",
   "id": "2f8d578d",
   "metadata": {},
   "source": [
    "# Exercise: Develompment of BentoML Service\n",
    "## Iris Dataset Classification\n",
    "\n",
    "Exercise that consists in training a ML model to predict the type of flower using the Iris dataset, and developing a Service with the model, using BentoML.\n",
    "This notebook contains tests on the data loading and model training, before the Service development and deployment."
   ]
  },
  {
   "cell_type": "markdown",
   "id": "10aeea1d",
   "metadata": {},
   "source": [
    "## Imports"
   ]
  },
  {
   "cell_type": "code",
   "execution_count": 58,
   "id": "06eb0497",
   "metadata": {},
   "outputs": [],
   "source": [
    "from pycaret.classification import ClassificationExperiment\n",
    "from sklearn.datasets import load_iris\n",
    "from sklearn.discriminant_analysis import QuadraticDiscriminantAnalysis\n",
    "from sklearn.metrics import classification_report\n",
    "from sklearn.model_selection import train_test_split"
   ]
  },
  {
   "cell_type": "markdown",
   "id": "ab5361c8",
   "metadata": {},
   "source": [
    "## Data"
   ]
  },
  {
   "cell_type": "code",
   "execution_count": 15,
   "id": "907e0ed4",
   "metadata": {
    "scrolled": true
   },
   "outputs": [
    {
     "name": "stdout",
     "output_type": "stream",
     "text": [
      ".. _iris_dataset:\n",
      "\n",
      "Iris plants dataset\n",
      "--------------------\n",
      "\n",
      "**Data Set Characteristics:**\n",
      "\n",
      "    :Number of Instances: 150 (50 in each of three classes)\n",
      "    :Number of Attributes: 4 numeric, predictive attributes and the class\n",
      "    :Attribute Information:\n",
      "        - sepal length in cm\n",
      "        - sepal width in cm\n",
      "        - petal length in cm\n",
      "        - petal width in cm\n",
      "        - class:\n",
      "                - Iris-Setosa\n",
      "                - Iris-Versicolour\n",
      "                - Iris-Virginica\n",
      "                \n",
      "    :Summary Statistics:\n",
      "\n",
      "    ============== ==== ==== ======= ===== ====================\n",
      "                    Min  Max   Mean    SD   Class Correlation\n",
      "    ============== ==== ==== ======= ===== ====================\n",
      "    sepal length:   4.3  7.9   5.84   0.83    0.7826\n",
      "    sepal width:    2.0  4.4   3.05   0.43   -0.4194\n",
      "    petal length:   1.0  6.9   3.76   1.76    0.9490  (high!)\n",
      "    petal width:    0.1  2.5   1.20   0.76    0.9565  (high!)\n",
      "    ============== ==== ==== ======= ===== ====================\n",
      "\n",
      "    :Missing Attribute Values: None\n",
      "    :Class Distribution: 33.3% for each of 3 classes.\n",
      "    :Creator: R.A. Fisher\n",
      "    :Donor: Michael Marshall (MARSHALL%PLU@io.arc.nasa.gov)\n",
      "    :Date: July, 1988\n",
      "\n",
      "The famous Iris database, first used by Sir R.A. Fisher. The dataset is taken\n",
      "from Fisher's paper. Note that it's the same as in R, but not as in the UCI\n",
      "Machine Learning Repository, which has two wrong data points.\n",
      "\n",
      "This is perhaps the best known database to be found in the\n",
      "pattern recognition literature.  Fisher's paper is a classic in the field and\n",
      "is referenced frequently to this day.  (See Duda & Hart, for example.)  The\n",
      "data set contains 3 classes of 50 instances each, where each class refers to a\n",
      "type of iris plant.  One class is linearly separable from the other 2; the\n",
      "latter are NOT linearly separable from each other.\n",
      "\n",
      ".. topic:: References\n",
      "\n",
      "   - Fisher, R.A. \"The use of multiple measurements in taxonomic problems\"\n",
      "     Annual Eugenics, 7, Part II, 179-188 (1936); also in \"Contributions to\n",
      "     Mathematical Statistics\" (John Wiley, NY, 1950).\n",
      "   - Duda, R.O., & Hart, P.E. (1973) Pattern Classification and Scene Analysis.\n",
      "     (Q327.D83) John Wiley & Sons.  ISBN 0-471-22361-1.  See page 218.\n",
      "   - Dasarathy, B.V. (1980) \"Nosing Around the Neighborhood: A New System\n",
      "     Structure and Classification Rule for Recognition in Partially Exposed\n",
      "     Environments\".  IEEE Transactions on Pattern Analysis and Machine\n",
      "     Intelligence, Vol. PAMI-2, No. 1, 67-71.\n",
      "   - Gates, G.W. (1972) \"The Reduced Nearest Neighbor Rule\".  IEEE Transactions\n",
      "     on Information Theory, May 1972, 431-433.\n",
      "   - See also: 1988 MLC Proceedings, 54-64.  Cheeseman et al\"s AUTOCLASS II\n",
      "     conceptual clustering system finds 3 classes in the data.\n",
      "   - Many, many more ...\n"
     ]
    }
   ],
   "source": [
    "data = load_iris(as_frame=True)\n",
    "print(data[\"DESCR\"])"
   ]
  },
  {
   "cell_type": "code",
   "execution_count": 18,
   "id": "153c1d48",
   "metadata": {},
   "outputs": [
    {
     "data": {
      "text/html": [
       "<div>\n",
       "<style scoped>\n",
       "    .dataframe tbody tr th:only-of-type {\n",
       "        vertical-align: middle;\n",
       "    }\n",
       "\n",
       "    .dataframe tbody tr th {\n",
       "        vertical-align: top;\n",
       "    }\n",
       "\n",
       "    .dataframe thead th {\n",
       "        text-align: right;\n",
       "    }\n",
       "</style>\n",
       "<table border=\"1\" class=\"dataframe\">\n",
       "  <thead>\n",
       "    <tr style=\"text-align: right;\">\n",
       "      <th></th>\n",
       "      <th>sepal length (cm)</th>\n",
       "      <th>sepal width (cm)</th>\n",
       "      <th>petal length (cm)</th>\n",
       "      <th>petal width (cm)</th>\n",
       "      <th>target</th>\n",
       "    </tr>\n",
       "  </thead>\n",
       "  <tbody>\n",
       "    <tr>\n",
       "      <th>0</th>\n",
       "      <td>5.1</td>\n",
       "      <td>3.5</td>\n",
       "      <td>1.4</td>\n",
       "      <td>0.2</td>\n",
       "      <td>0</td>\n",
       "    </tr>\n",
       "    <tr>\n",
       "      <th>1</th>\n",
       "      <td>4.9</td>\n",
       "      <td>3.0</td>\n",
       "      <td>1.4</td>\n",
       "      <td>0.2</td>\n",
       "      <td>0</td>\n",
       "    </tr>\n",
       "    <tr>\n",
       "      <th>2</th>\n",
       "      <td>4.7</td>\n",
       "      <td>3.2</td>\n",
       "      <td>1.3</td>\n",
       "      <td>0.2</td>\n",
       "      <td>0</td>\n",
       "    </tr>\n",
       "    <tr>\n",
       "      <th>3</th>\n",
       "      <td>4.6</td>\n",
       "      <td>3.1</td>\n",
       "      <td>1.5</td>\n",
       "      <td>0.2</td>\n",
       "      <td>0</td>\n",
       "    </tr>\n",
       "    <tr>\n",
       "      <th>4</th>\n",
       "      <td>5.0</td>\n",
       "      <td>3.6</td>\n",
       "      <td>1.4</td>\n",
       "      <td>0.2</td>\n",
       "      <td>0</td>\n",
       "    </tr>\n",
       "    <tr>\n",
       "      <th>...</th>\n",
       "      <td>...</td>\n",
       "      <td>...</td>\n",
       "      <td>...</td>\n",
       "      <td>...</td>\n",
       "      <td>...</td>\n",
       "    </tr>\n",
       "    <tr>\n",
       "      <th>145</th>\n",
       "      <td>6.7</td>\n",
       "      <td>3.0</td>\n",
       "      <td>5.2</td>\n",
       "      <td>2.3</td>\n",
       "      <td>2</td>\n",
       "    </tr>\n",
       "    <tr>\n",
       "      <th>146</th>\n",
       "      <td>6.3</td>\n",
       "      <td>2.5</td>\n",
       "      <td>5.0</td>\n",
       "      <td>1.9</td>\n",
       "      <td>2</td>\n",
       "    </tr>\n",
       "    <tr>\n",
       "      <th>147</th>\n",
       "      <td>6.5</td>\n",
       "      <td>3.0</td>\n",
       "      <td>5.2</td>\n",
       "      <td>2.0</td>\n",
       "      <td>2</td>\n",
       "    </tr>\n",
       "    <tr>\n",
       "      <th>148</th>\n",
       "      <td>6.2</td>\n",
       "      <td>3.4</td>\n",
       "      <td>5.4</td>\n",
       "      <td>2.3</td>\n",
       "      <td>2</td>\n",
       "    </tr>\n",
       "    <tr>\n",
       "      <th>149</th>\n",
       "      <td>5.9</td>\n",
       "      <td>3.0</td>\n",
       "      <td>5.1</td>\n",
       "      <td>1.8</td>\n",
       "      <td>2</td>\n",
       "    </tr>\n",
       "  </tbody>\n",
       "</table>\n",
       "<p>150 rows × 5 columns</p>\n",
       "</div>"
      ],
      "text/plain": [
       "     sepal length (cm)  sepal width (cm)  petal length (cm)  petal width (cm)  \\\n",
       "0                  5.1               3.5                1.4               0.2   \n",
       "1                  4.9               3.0                1.4               0.2   \n",
       "2                  4.7               3.2                1.3               0.2   \n",
       "3                  4.6               3.1                1.5               0.2   \n",
       "4                  5.0               3.6                1.4               0.2   \n",
       "..                 ...               ...                ...               ...   \n",
       "145                6.7               3.0                5.2               2.3   \n",
       "146                6.3               2.5                5.0               1.9   \n",
       "147                6.5               3.0                5.2               2.0   \n",
       "148                6.2               3.4                5.4               2.3   \n",
       "149                5.9               3.0                5.1               1.8   \n",
       "\n",
       "     target  \n",
       "0         0  \n",
       "1         0  \n",
       "2         0  \n",
       "3         0  \n",
       "4         0  \n",
       "..      ...  \n",
       "145       2  \n",
       "146       2  \n",
       "147       2  \n",
       "148       2  \n",
       "149       2  \n",
       "\n",
       "[150 rows x 5 columns]"
      ]
     },
     "execution_count": 18,
     "metadata": {},
     "output_type": "execute_result"
    }
   ],
   "source": [
    "df = data[\"frame\"]\n",
    "df"
   ]
  },
  {
   "cell_type": "code",
   "execution_count": 24,
   "id": "e1812021",
   "metadata": {},
   "outputs": [],
   "source": [
    "X = df.drop(columns=[\"target\"])\n",
    "y = df[\"target\"]"
   ]
  },
  {
   "cell_type": "code",
   "execution_count": 26,
   "id": "4323848c",
   "metadata": {},
   "outputs": [],
   "source": [
    "X_train, X_test, y_train, y_test = train_test_split(X, y, test_size=0.1, random_state=7)"
   ]
  },
  {
   "cell_type": "code",
   "execution_count": 28,
   "id": "41a4de6c",
   "metadata": {},
   "outputs": [
    {
     "name": "stdout",
     "output_type": "stream",
     "text": [
      "(135, 4)\n",
      "(15, 4)\n",
      "(135,)\n",
      "(15,)\n"
     ]
    }
   ],
   "source": [
    "print(X_train.shape)\n",
    "print(X_test.shape)\n",
    "print(y_train.shape)\n",
    "print(y_test.shape)"
   ]
  },
  {
   "cell_type": "markdown",
   "id": "d09b947a",
   "metadata": {},
   "source": [
    "## Model "
   ]
  },
  {
   "cell_type": "markdown",
   "id": "241116bd",
   "metadata": {},
   "source": [
    "First tests using Pycaret classification. Further tuning will be made using Sklearn."
   ]
  },
  {
   "cell_type": "markdown",
   "id": "1180ee93",
   "metadata": {},
   "source": [
    "### Pycaret"
   ]
  },
  {
   "cell_type": "code",
   "execution_count": 37,
   "id": "47259f71",
   "metadata": {},
   "outputs": [
    {
     "data": {
      "text/html": [
       "<style type=\"text/css\">\n",
       "#T_22f57_row8_col1 {\n",
       "  background-color: lightgreen;\n",
       "}\n",
       "</style>\n",
       "<table id=\"T_22f57\">\n",
       "  <thead>\n",
       "    <tr>\n",
       "      <th class=\"blank level0\" >&nbsp;</th>\n",
       "      <th id=\"T_22f57_level0_col0\" class=\"col_heading level0 col0\" >Description</th>\n",
       "      <th id=\"T_22f57_level0_col1\" class=\"col_heading level0 col1\" >Value</th>\n",
       "    </tr>\n",
       "  </thead>\n",
       "  <tbody>\n",
       "    <tr>\n",
       "      <th id=\"T_22f57_level0_row0\" class=\"row_heading level0 row0\" >0</th>\n",
       "      <td id=\"T_22f57_row0_col0\" class=\"data row0 col0\" >Session id</td>\n",
       "      <td id=\"T_22f57_row0_col1\" class=\"data row0 col1\" >7</td>\n",
       "    </tr>\n",
       "    <tr>\n",
       "      <th id=\"T_22f57_level0_row1\" class=\"row_heading level0 row1\" >1</th>\n",
       "      <td id=\"T_22f57_row1_col0\" class=\"data row1 col0\" >Target</td>\n",
       "      <td id=\"T_22f57_row1_col1\" class=\"data row1 col1\" >target</td>\n",
       "    </tr>\n",
       "    <tr>\n",
       "      <th id=\"T_22f57_level0_row2\" class=\"row_heading level0 row2\" >2</th>\n",
       "      <td id=\"T_22f57_row2_col0\" class=\"data row2 col0\" >Target type</td>\n",
       "      <td id=\"T_22f57_row2_col1\" class=\"data row2 col1\" >Multiclass</td>\n",
       "    </tr>\n",
       "    <tr>\n",
       "      <th id=\"T_22f57_level0_row3\" class=\"row_heading level0 row3\" >3</th>\n",
       "      <td id=\"T_22f57_row3_col0\" class=\"data row3 col0\" >Original data shape</td>\n",
       "      <td id=\"T_22f57_row3_col1\" class=\"data row3 col1\" >(150, 5)</td>\n",
       "    </tr>\n",
       "    <tr>\n",
       "      <th id=\"T_22f57_level0_row4\" class=\"row_heading level0 row4\" >4</th>\n",
       "      <td id=\"T_22f57_row4_col0\" class=\"data row4 col0\" >Transformed data shape</td>\n",
       "      <td id=\"T_22f57_row4_col1\" class=\"data row4 col1\" >(150, 5)</td>\n",
       "    </tr>\n",
       "    <tr>\n",
       "      <th id=\"T_22f57_level0_row5\" class=\"row_heading level0 row5\" >5</th>\n",
       "      <td id=\"T_22f57_row5_col0\" class=\"data row5 col0\" >Transformed train set shape</td>\n",
       "      <td id=\"T_22f57_row5_col1\" class=\"data row5 col1\" >(120, 5)</td>\n",
       "    </tr>\n",
       "    <tr>\n",
       "      <th id=\"T_22f57_level0_row6\" class=\"row_heading level0 row6\" >6</th>\n",
       "      <td id=\"T_22f57_row6_col0\" class=\"data row6 col0\" >Transformed test set shape</td>\n",
       "      <td id=\"T_22f57_row6_col1\" class=\"data row6 col1\" >(30, 5)</td>\n",
       "    </tr>\n",
       "    <tr>\n",
       "      <th id=\"T_22f57_level0_row7\" class=\"row_heading level0 row7\" >7</th>\n",
       "      <td id=\"T_22f57_row7_col0\" class=\"data row7 col0\" >Numeric features</td>\n",
       "      <td id=\"T_22f57_row7_col1\" class=\"data row7 col1\" >4</td>\n",
       "    </tr>\n",
       "    <tr>\n",
       "      <th id=\"T_22f57_level0_row8\" class=\"row_heading level0 row8\" >8</th>\n",
       "      <td id=\"T_22f57_row8_col0\" class=\"data row8 col0\" >Preprocess</td>\n",
       "      <td id=\"T_22f57_row8_col1\" class=\"data row8 col1\" >True</td>\n",
       "    </tr>\n",
       "    <tr>\n",
       "      <th id=\"T_22f57_level0_row9\" class=\"row_heading level0 row9\" >9</th>\n",
       "      <td id=\"T_22f57_row9_col0\" class=\"data row9 col0\" >Imputation type</td>\n",
       "      <td id=\"T_22f57_row9_col1\" class=\"data row9 col1\" >simple</td>\n",
       "    </tr>\n",
       "    <tr>\n",
       "      <th id=\"T_22f57_level0_row10\" class=\"row_heading level0 row10\" >10</th>\n",
       "      <td id=\"T_22f57_row10_col0\" class=\"data row10 col0\" >Numeric imputation</td>\n",
       "      <td id=\"T_22f57_row10_col1\" class=\"data row10 col1\" >mean</td>\n",
       "    </tr>\n",
       "    <tr>\n",
       "      <th id=\"T_22f57_level0_row11\" class=\"row_heading level0 row11\" >11</th>\n",
       "      <td id=\"T_22f57_row11_col0\" class=\"data row11 col0\" >Categorical imputation</td>\n",
       "      <td id=\"T_22f57_row11_col1\" class=\"data row11 col1\" >mode</td>\n",
       "    </tr>\n",
       "    <tr>\n",
       "      <th id=\"T_22f57_level0_row12\" class=\"row_heading level0 row12\" >12</th>\n",
       "      <td id=\"T_22f57_row12_col0\" class=\"data row12 col0\" >Fold Generator</td>\n",
       "      <td id=\"T_22f57_row12_col1\" class=\"data row12 col1\" >StratifiedKFold</td>\n",
       "    </tr>\n",
       "    <tr>\n",
       "      <th id=\"T_22f57_level0_row13\" class=\"row_heading level0 row13\" >13</th>\n",
       "      <td id=\"T_22f57_row13_col0\" class=\"data row13 col0\" >Fold Number</td>\n",
       "      <td id=\"T_22f57_row13_col1\" class=\"data row13 col1\" >10</td>\n",
       "    </tr>\n",
       "    <tr>\n",
       "      <th id=\"T_22f57_level0_row14\" class=\"row_heading level0 row14\" >14</th>\n",
       "      <td id=\"T_22f57_row14_col0\" class=\"data row14 col0\" >CPU Jobs</td>\n",
       "      <td id=\"T_22f57_row14_col1\" class=\"data row14 col1\" >-1</td>\n",
       "    </tr>\n",
       "    <tr>\n",
       "      <th id=\"T_22f57_level0_row15\" class=\"row_heading level0 row15\" >15</th>\n",
       "      <td id=\"T_22f57_row15_col0\" class=\"data row15 col0\" >Use GPU</td>\n",
       "      <td id=\"T_22f57_row15_col1\" class=\"data row15 col1\" >False</td>\n",
       "    </tr>\n",
       "    <tr>\n",
       "      <th id=\"T_22f57_level0_row16\" class=\"row_heading level0 row16\" >16</th>\n",
       "      <td id=\"T_22f57_row16_col0\" class=\"data row16 col0\" >Log Experiment</td>\n",
       "      <td id=\"T_22f57_row16_col1\" class=\"data row16 col1\" >False</td>\n",
       "    </tr>\n",
       "    <tr>\n",
       "      <th id=\"T_22f57_level0_row17\" class=\"row_heading level0 row17\" >17</th>\n",
       "      <td id=\"T_22f57_row17_col0\" class=\"data row17 col0\" >Experiment Name</td>\n",
       "      <td id=\"T_22f57_row17_col1\" class=\"data row17 col1\" >clf-default-name</td>\n",
       "    </tr>\n",
       "    <tr>\n",
       "      <th id=\"T_22f57_level0_row18\" class=\"row_heading level0 row18\" >18</th>\n",
       "      <td id=\"T_22f57_row18_col0\" class=\"data row18 col0\" >USI</td>\n",
       "      <td id=\"T_22f57_row18_col1\" class=\"data row18 col1\" >1e82</td>\n",
       "    </tr>\n",
       "  </tbody>\n",
       "</table>\n"
      ],
      "text/plain": [
       "<pandas.io.formats.style.Styler at 0x7fdf93a487f0>"
      ]
     },
     "metadata": {},
     "output_type": "display_data"
    },
    {
     "data": {
      "text/plain": [
       "<pycaret.classification.oop.ClassificationExperiment at 0x7fdf9c1cece0>"
      ]
     },
     "execution_count": 37,
     "metadata": {},
     "output_type": "execute_result"
    }
   ],
   "source": [
    "pycaret_clf = ClassificationExperiment()\n",
    "pycaret_clf.setup(df, target=\"target\", session_id=7, train_size=0.8)"
   ]
  },
  {
   "cell_type": "code",
   "execution_count": 39,
   "id": "1120387f",
   "metadata": {},
   "outputs": [
    {
     "data": {
      "text/html": [],
      "text/plain": [
       "<IPython.core.display.HTML object>"
      ]
     },
     "metadata": {},
     "output_type": "display_data"
    },
    {
     "data": {
      "text/html": [
       "<style type=\"text/css\">\n",
       "#T_03456 th {\n",
       "  text-align: left;\n",
       "}\n",
       "#T_03456_row0_col0, #T_03456_row1_col0, #T_03456_row1_col1, #T_03456_row1_col3, #T_03456_row1_col4, #T_03456_row1_col5, #T_03456_row1_col6, #T_03456_row1_col7, #T_03456_row2_col0, #T_03456_row2_col1, #T_03456_row2_col3, #T_03456_row2_col4, #T_03456_row2_col5, #T_03456_row2_col6, #T_03456_row2_col7, #T_03456_row3_col0, #T_03456_row3_col1, #T_03456_row3_col2, #T_03456_row3_col3, #T_03456_row3_col4, #T_03456_row3_col5, #T_03456_row3_col6, #T_03456_row3_col7, #T_03456_row4_col0, #T_03456_row4_col1, #T_03456_row4_col2, #T_03456_row4_col3, #T_03456_row4_col4, #T_03456_row4_col5, #T_03456_row4_col6, #T_03456_row4_col7, #T_03456_row5_col0, #T_03456_row5_col1, #T_03456_row5_col2, #T_03456_row5_col3, #T_03456_row5_col4, #T_03456_row5_col5, #T_03456_row5_col6, #T_03456_row5_col7, #T_03456_row6_col0, #T_03456_row6_col1, #T_03456_row6_col2, #T_03456_row6_col3, #T_03456_row6_col4, #T_03456_row6_col5, #T_03456_row6_col6, #T_03456_row6_col7, #T_03456_row7_col0, #T_03456_row7_col1, #T_03456_row7_col2, #T_03456_row7_col3, #T_03456_row7_col4, #T_03456_row7_col5, #T_03456_row7_col6, #T_03456_row7_col7, #T_03456_row8_col0, #T_03456_row8_col1, #T_03456_row8_col2, #T_03456_row8_col3, #T_03456_row8_col4, #T_03456_row8_col5, #T_03456_row8_col6, #T_03456_row8_col7, #T_03456_row9_col0, #T_03456_row9_col1, #T_03456_row9_col2, #T_03456_row9_col3, #T_03456_row9_col4, #T_03456_row9_col5, #T_03456_row9_col6, #T_03456_row9_col7, #T_03456_row10_col0, #T_03456_row10_col1, #T_03456_row10_col2, #T_03456_row10_col3, #T_03456_row10_col4, #T_03456_row10_col5, #T_03456_row10_col6, #T_03456_row10_col7, #T_03456_row11_col0, #T_03456_row11_col1, #T_03456_row11_col2, #T_03456_row11_col3, #T_03456_row11_col4, #T_03456_row11_col5, #T_03456_row11_col6, #T_03456_row11_col7, #T_03456_row12_col0, #T_03456_row12_col1, #T_03456_row12_col2, #T_03456_row12_col3, #T_03456_row12_col4, #T_03456_row12_col5, #T_03456_row12_col6, #T_03456_row12_col7, #T_03456_row13_col0, #T_03456_row13_col1, #T_03456_row13_col2, #T_03456_row13_col3, #T_03456_row13_col4, #T_03456_row13_col5, #T_03456_row13_col6, #T_03456_row13_col7 {\n",
       "  text-align: left;\n",
       "}\n",
       "#T_03456_row0_col1, #T_03456_row0_col2, #T_03456_row0_col3, #T_03456_row0_col4, #T_03456_row0_col5, #T_03456_row0_col6, #T_03456_row0_col7, #T_03456_row1_col2, #T_03456_row2_col2 {\n",
       "  text-align: left;\n",
       "  background-color: yellow;\n",
       "}\n",
       "#T_03456_row0_col8, #T_03456_row1_col8, #T_03456_row2_col8, #T_03456_row3_col8, #T_03456_row4_col8, #T_03456_row5_col8, #T_03456_row6_col8, #T_03456_row7_col8, #T_03456_row8_col8, #T_03456_row9_col8, #T_03456_row10_col8, #T_03456_row13_col8 {\n",
       "  text-align: left;\n",
       "  background-color: lightgrey;\n",
       "}\n",
       "#T_03456_row11_col8, #T_03456_row12_col8 {\n",
       "  text-align: left;\n",
       "  background-color: yellow;\n",
       "  background-color: lightgrey;\n",
       "}\n",
       "</style>\n",
       "<table id=\"T_03456\">\n",
       "  <thead>\n",
       "    <tr>\n",
       "      <th class=\"blank level0\" >&nbsp;</th>\n",
       "      <th id=\"T_03456_level0_col0\" class=\"col_heading level0 col0\" >Model</th>\n",
       "      <th id=\"T_03456_level0_col1\" class=\"col_heading level0 col1\" >Accuracy</th>\n",
       "      <th id=\"T_03456_level0_col2\" class=\"col_heading level0 col2\" >AUC</th>\n",
       "      <th id=\"T_03456_level0_col3\" class=\"col_heading level0 col3\" >Recall</th>\n",
       "      <th id=\"T_03456_level0_col4\" class=\"col_heading level0 col4\" >Prec.</th>\n",
       "      <th id=\"T_03456_level0_col5\" class=\"col_heading level0 col5\" >F1</th>\n",
       "      <th id=\"T_03456_level0_col6\" class=\"col_heading level0 col6\" >Kappa</th>\n",
       "      <th id=\"T_03456_level0_col7\" class=\"col_heading level0 col7\" >MCC</th>\n",
       "      <th id=\"T_03456_level0_col8\" class=\"col_heading level0 col8\" >TT (Sec)</th>\n",
       "    </tr>\n",
       "  </thead>\n",
       "  <tbody>\n",
       "    <tr>\n",
       "      <th id=\"T_03456_level0_row0\" class=\"row_heading level0 row0\" >qda</th>\n",
       "      <td id=\"T_03456_row0_col0\" class=\"data row0 col0\" >Quadratic Discriminant Analysis</td>\n",
       "      <td id=\"T_03456_row0_col1\" class=\"data row0 col1\" >0.9750</td>\n",
       "      <td id=\"T_03456_row0_col2\" class=\"data row0 col2\" >1.0000</td>\n",
       "      <td id=\"T_03456_row0_col3\" class=\"data row0 col3\" >0.9750</td>\n",
       "      <td id=\"T_03456_row0_col4\" class=\"data row0 col4\" >0.9800</td>\n",
       "      <td id=\"T_03456_row0_col5\" class=\"data row0 col5\" >0.9746</td>\n",
       "      <td id=\"T_03456_row0_col6\" class=\"data row0 col6\" >0.9625</td>\n",
       "      <td id=\"T_03456_row0_col7\" class=\"data row0 col7\" >0.9653</td>\n",
       "      <td id=\"T_03456_row0_col8\" class=\"data row0 col8\" >0.0230</td>\n",
       "    </tr>\n",
       "    <tr>\n",
       "      <th id=\"T_03456_level0_row1\" class=\"row_heading level0 row1\" >lda</th>\n",
       "      <td id=\"T_03456_row1_col0\" class=\"data row1 col0\" >Linear Discriminant Analysis</td>\n",
       "      <td id=\"T_03456_row1_col1\" class=\"data row1 col1\" >0.9667</td>\n",
       "      <td id=\"T_03456_row1_col2\" class=\"data row1 col2\" >1.0000</td>\n",
       "      <td id=\"T_03456_row1_col3\" class=\"data row1 col3\" >0.9667</td>\n",
       "      <td id=\"T_03456_row1_col4\" class=\"data row1 col4\" >0.9733</td>\n",
       "      <td id=\"T_03456_row1_col5\" class=\"data row1 col5\" >0.9661</td>\n",
       "      <td id=\"T_03456_row1_col6\" class=\"data row1 col6\" >0.9500</td>\n",
       "      <td id=\"T_03456_row1_col7\" class=\"data row1 col7\" >0.9537</td>\n",
       "      <td id=\"T_03456_row1_col8\" class=\"data row1 col8\" >0.0250</td>\n",
       "    </tr>\n",
       "    <tr>\n",
       "      <th id=\"T_03456_level0_row2\" class=\"row_heading level0 row2\" >lr</th>\n",
       "      <td id=\"T_03456_row2_col0\" class=\"data row2 col0\" >Logistic Regression</td>\n",
       "      <td id=\"T_03456_row2_col1\" class=\"data row2 col1\" >0.9500</td>\n",
       "      <td id=\"T_03456_row2_col2\" class=\"data row2 col2\" >1.0000</td>\n",
       "      <td id=\"T_03456_row2_col3\" class=\"data row2 col3\" >0.9500</td>\n",
       "      <td id=\"T_03456_row2_col4\" class=\"data row2 col4\" >0.9622</td>\n",
       "      <td id=\"T_03456_row2_col5\" class=\"data row2 col5\" >0.9484</td>\n",
       "      <td id=\"T_03456_row2_col6\" class=\"data row2 col6\" >0.9250</td>\n",
       "      <td id=\"T_03456_row2_col7\" class=\"data row2 col7\" >0.9320</td>\n",
       "      <td id=\"T_03456_row2_col8\" class=\"data row2 col8\" >0.0260</td>\n",
       "    </tr>\n",
       "    <tr>\n",
       "      <th id=\"T_03456_level0_row3\" class=\"row_heading level0 row3\" >knn</th>\n",
       "      <td id=\"T_03456_row3_col0\" class=\"data row3 col0\" >K Neighbors Classifier</td>\n",
       "      <td id=\"T_03456_row3_col1\" class=\"data row3 col1\" >0.9417</td>\n",
       "      <td id=\"T_03456_row3_col2\" class=\"data row3 col2\" >0.9844</td>\n",
       "      <td id=\"T_03456_row3_col3\" class=\"data row3 col3\" >0.9417</td>\n",
       "      <td id=\"T_03456_row3_col4\" class=\"data row3 col4\" >0.9533</td>\n",
       "      <td id=\"T_03456_row3_col5\" class=\"data row3 col5\" >0.9407</td>\n",
       "      <td id=\"T_03456_row3_col6\" class=\"data row3 col6\" >0.9125</td>\n",
       "      <td id=\"T_03456_row3_col7\" class=\"data row3 col7\" >0.9190</td>\n",
       "      <td id=\"T_03456_row3_col8\" class=\"data row3 col8\" >0.0280</td>\n",
       "    </tr>\n",
       "    <tr>\n",
       "      <th id=\"T_03456_level0_row4\" class=\"row_heading level0 row4\" >gbc</th>\n",
       "      <td id=\"T_03456_row4_col0\" class=\"data row4 col0\" >Gradient Boosting Classifier</td>\n",
       "      <td id=\"T_03456_row4_col1\" class=\"data row4 col1\" >0.9417</td>\n",
       "      <td id=\"T_03456_row4_col2\" class=\"data row4 col2\" >0.9740</td>\n",
       "      <td id=\"T_03456_row4_col3\" class=\"data row4 col3\" >0.9417</td>\n",
       "      <td id=\"T_03456_row4_col4\" class=\"data row4 col4\" >0.9556</td>\n",
       "      <td id=\"T_03456_row4_col5\" class=\"data row4 col5\" >0.9399</td>\n",
       "      <td id=\"T_03456_row4_col6\" class=\"data row4 col6\" >0.9125</td>\n",
       "      <td id=\"T_03456_row4_col7\" class=\"data row4 col7\" >0.9205</td>\n",
       "      <td id=\"T_03456_row4_col8\" class=\"data row4 col8\" >0.0900</td>\n",
       "    </tr>\n",
       "    <tr>\n",
       "      <th id=\"T_03456_level0_row5\" class=\"row_heading level0 row5\" >et</th>\n",
       "      <td id=\"T_03456_row5_col0\" class=\"data row5 col0\" >Extra Trees Classifier</td>\n",
       "      <td id=\"T_03456_row5_col1\" class=\"data row5 col1\" >0.9417</td>\n",
       "      <td id=\"T_03456_row5_col2\" class=\"data row5 col2\" >0.9969</td>\n",
       "      <td id=\"T_03456_row5_col3\" class=\"data row5 col3\" >0.9417</td>\n",
       "      <td id=\"T_03456_row5_col4\" class=\"data row5 col4\" >0.9578</td>\n",
       "      <td id=\"T_03456_row5_col5\" class=\"data row5 col5\" >0.9390</td>\n",
       "      <td id=\"T_03456_row5_col6\" class=\"data row5 col6\" >0.9125</td>\n",
       "      <td id=\"T_03456_row5_col7\" class=\"data row5 col7\" >0.9219</td>\n",
       "      <td id=\"T_03456_row5_col8\" class=\"data row5 col8\" >0.0710</td>\n",
       "    </tr>\n",
       "    <tr>\n",
       "      <th id=\"T_03456_level0_row6\" class=\"row_heading level0 row6\" >nb</th>\n",
       "      <td id=\"T_03456_row6_col0\" class=\"data row6 col0\" >Naive Bayes</td>\n",
       "      <td id=\"T_03456_row6_col1\" class=\"data row6 col1\" >0.9333</td>\n",
       "      <td id=\"T_03456_row6_col2\" class=\"data row6 col2\" >0.9979</td>\n",
       "      <td id=\"T_03456_row6_col3\" class=\"data row6 col3\" >0.9333</td>\n",
       "      <td id=\"T_03456_row6_col4\" class=\"data row6 col4\" >0.9511</td>\n",
       "      <td id=\"T_03456_row6_col5\" class=\"data row6 col5\" >0.9306</td>\n",
       "      <td id=\"T_03456_row6_col6\" class=\"data row6 col6\" >0.9000</td>\n",
       "      <td id=\"T_03456_row6_col7\" class=\"data row6 col7\" >0.9104</td>\n",
       "      <td id=\"T_03456_row6_col8\" class=\"data row6 col8\" >0.0230</td>\n",
       "    </tr>\n",
       "    <tr>\n",
       "      <th id=\"T_03456_level0_row7\" class=\"row_heading level0 row7\" >dt</th>\n",
       "      <td id=\"T_03456_row7_col0\" class=\"data row7 col0\" >Decision Tree Classifier</td>\n",
       "      <td id=\"T_03456_row7_col1\" class=\"data row7 col1\" >0.9333</td>\n",
       "      <td id=\"T_03456_row7_col2\" class=\"data row7 col2\" >0.9500</td>\n",
       "      <td id=\"T_03456_row7_col3\" class=\"data row7 col3\" >0.9333</td>\n",
       "      <td id=\"T_03456_row7_col4\" class=\"data row7 col4\" >0.9511</td>\n",
       "      <td id=\"T_03456_row7_col5\" class=\"data row7 col5\" >0.9306</td>\n",
       "      <td id=\"T_03456_row7_col6\" class=\"data row7 col6\" >0.9000</td>\n",
       "      <td id=\"T_03456_row7_col7\" class=\"data row7 col7\" >0.9104</td>\n",
       "      <td id=\"T_03456_row7_col8\" class=\"data row7 col8\" >0.0220</td>\n",
       "    </tr>\n",
       "    <tr>\n",
       "      <th id=\"T_03456_level0_row8\" class=\"row_heading level0 row8\" >rf</th>\n",
       "      <td id=\"T_03456_row8_col0\" class=\"data row8 col0\" >Random Forest Classifier</td>\n",
       "      <td id=\"T_03456_row8_col1\" class=\"data row8 col1\" >0.9333</td>\n",
       "      <td id=\"T_03456_row8_col2\" class=\"data row8 col2\" >0.9958</td>\n",
       "      <td id=\"T_03456_row8_col3\" class=\"data row8 col3\" >0.9333</td>\n",
       "      <td id=\"T_03456_row8_col4\" class=\"data row8 col4\" >0.9511</td>\n",
       "      <td id=\"T_03456_row8_col5\" class=\"data row8 col5\" >0.9306</td>\n",
       "      <td id=\"T_03456_row8_col6\" class=\"data row8 col6\" >0.9000</td>\n",
       "      <td id=\"T_03456_row8_col7\" class=\"data row8 col7\" >0.9104</td>\n",
       "      <td id=\"T_03456_row8_col8\" class=\"data row8 col8\" >0.0760</td>\n",
       "    </tr>\n",
       "    <tr>\n",
       "      <th id=\"T_03456_level0_row9\" class=\"row_heading level0 row9\" >ada</th>\n",
       "      <td id=\"T_03456_row9_col0\" class=\"data row9 col0\" >Ada Boost Classifier</td>\n",
       "      <td id=\"T_03456_row9_col1\" class=\"data row9 col1\" >0.9333</td>\n",
       "      <td id=\"T_03456_row9_col2\" class=\"data row9 col2\" >0.9906</td>\n",
       "      <td id=\"T_03456_row9_col3\" class=\"data row9 col3\" >0.9333</td>\n",
       "      <td id=\"T_03456_row9_col4\" class=\"data row9 col4\" >0.9511</td>\n",
       "      <td id=\"T_03456_row9_col5\" class=\"data row9 col5\" >0.9306</td>\n",
       "      <td id=\"T_03456_row9_col6\" class=\"data row9 col6\" >0.9000</td>\n",
       "      <td id=\"T_03456_row9_col7\" class=\"data row9 col7\" >0.9104</td>\n",
       "      <td id=\"T_03456_row9_col8\" class=\"data row9 col8\" >0.0500</td>\n",
       "    </tr>\n",
       "    <tr>\n",
       "      <th id=\"T_03456_level0_row10\" class=\"row_heading level0 row10\" >lightgbm</th>\n",
       "      <td id=\"T_03456_row10_col0\" class=\"data row10 col0\" >Light Gradient Boosting Machine</td>\n",
       "      <td id=\"T_03456_row10_col1\" class=\"data row10 col1\" >0.9333</td>\n",
       "      <td id=\"T_03456_row10_col2\" class=\"data row10 col2\" >0.9688</td>\n",
       "      <td id=\"T_03456_row10_col3\" class=\"data row10 col3\" >0.9333</td>\n",
       "      <td id=\"T_03456_row10_col4\" class=\"data row10 col4\" >0.9478</td>\n",
       "      <td id=\"T_03456_row10_col5\" class=\"data row10 col5\" >0.9308</td>\n",
       "      <td id=\"T_03456_row10_col6\" class=\"data row10 col6\" >0.9000</td>\n",
       "      <td id=\"T_03456_row10_col7\" class=\"data row10 col7\" >0.9085</td>\n",
       "      <td id=\"T_03456_row10_col8\" class=\"data row10 col8\" >0.0340</td>\n",
       "    </tr>\n",
       "    <tr>\n",
       "      <th id=\"T_03456_level0_row11\" class=\"row_heading level0 row11\" >svm</th>\n",
       "      <td id=\"T_03456_row11_col0\" class=\"data row11 col0\" >SVM - Linear Kernel</td>\n",
       "      <td id=\"T_03456_row11_col1\" class=\"data row11 col1\" >0.8667</td>\n",
       "      <td id=\"T_03456_row11_col2\" class=\"data row11 col2\" >0.0000</td>\n",
       "      <td id=\"T_03456_row11_col3\" class=\"data row11 col3\" >0.8667</td>\n",
       "      <td id=\"T_03456_row11_col4\" class=\"data row11 col4\" >0.8735</td>\n",
       "      <td id=\"T_03456_row11_col5\" class=\"data row11 col5\" >0.8474</td>\n",
       "      <td id=\"T_03456_row11_col6\" class=\"data row11 col6\" >0.8000</td>\n",
       "      <td id=\"T_03456_row11_col7\" class=\"data row11 col7\" >0.8246</td>\n",
       "      <td id=\"T_03456_row11_col8\" class=\"data row11 col8\" >0.0210</td>\n",
       "    </tr>\n",
       "    <tr>\n",
       "      <th id=\"T_03456_level0_row12\" class=\"row_heading level0 row12\" >ridge</th>\n",
       "      <td id=\"T_03456_row12_col0\" class=\"data row12 col0\" >Ridge Classifier</td>\n",
       "      <td id=\"T_03456_row12_col1\" class=\"data row12 col1\" >0.8500</td>\n",
       "      <td id=\"T_03456_row12_col2\" class=\"data row12 col2\" >0.0000</td>\n",
       "      <td id=\"T_03456_row12_col3\" class=\"data row12 col3\" >0.8500</td>\n",
       "      <td id=\"T_03456_row12_col4\" class=\"data row12 col4\" >0.8689</td>\n",
       "      <td id=\"T_03456_row12_col5\" class=\"data row12 col5\" >0.8439</td>\n",
       "      <td id=\"T_03456_row12_col6\" class=\"data row12 col6\" >0.7750</td>\n",
       "      <td id=\"T_03456_row12_col7\" class=\"data row12 col7\" >0.7888</td>\n",
       "      <td id=\"T_03456_row12_col8\" class=\"data row12 col8\" >0.0210</td>\n",
       "    </tr>\n",
       "    <tr>\n",
       "      <th id=\"T_03456_level0_row13\" class=\"row_heading level0 row13\" >dummy</th>\n",
       "      <td id=\"T_03456_row13_col0\" class=\"data row13 col0\" >Dummy Classifier</td>\n",
       "      <td id=\"T_03456_row13_col1\" class=\"data row13 col1\" >0.3333</td>\n",
       "      <td id=\"T_03456_row13_col2\" class=\"data row13 col2\" >0.5000</td>\n",
       "      <td id=\"T_03456_row13_col3\" class=\"data row13 col3\" >0.3333</td>\n",
       "      <td id=\"T_03456_row13_col4\" class=\"data row13 col4\" >0.1111</td>\n",
       "      <td id=\"T_03456_row13_col5\" class=\"data row13 col5\" >0.1667</td>\n",
       "      <td id=\"T_03456_row13_col6\" class=\"data row13 col6\" >0.0000</td>\n",
       "      <td id=\"T_03456_row13_col7\" class=\"data row13 col7\" >0.0000</td>\n",
       "      <td id=\"T_03456_row13_col8\" class=\"data row13 col8\" >0.0230</td>\n",
       "    </tr>\n",
       "  </tbody>\n",
       "</table>\n"
      ],
      "text/plain": [
       "<pandas.io.formats.style.Styler at 0x7fdf93b60130>"
      ]
     },
     "metadata": {},
     "output_type": "display_data"
    },
    {
     "data": {
      "text/html": [],
      "text/plain": [
       "<IPython.core.display.HTML object>"
      ]
     },
     "metadata": {},
     "output_type": "display_data"
    }
   ],
   "source": [
    "best_pycaret_clf = pycaret_clf.compare_models()"
   ]
  },
  {
   "cell_type": "markdown",
   "id": "1cd4207b",
   "metadata": {},
   "source": [
    "### Sklearn"
   ]
  },
  {
   "cell_type": "code",
   "execution_count": 43,
   "id": "6b2207e1",
   "metadata": {},
   "outputs": [],
   "source": [
    "qda_clf = QuadraticDiscriminantAnalysis()"
   ]
  },
  {
   "cell_type": "code",
   "execution_count": 44,
   "id": "a0a144a3",
   "metadata": {},
   "outputs": [
    {
     "data": {
      "text/html": [
       "<style>#sk-container-id-3 {color: black;background-color: white;}#sk-container-id-3 pre{padding: 0;}#sk-container-id-3 div.sk-toggleable {background-color: white;}#sk-container-id-3 label.sk-toggleable__label {cursor: pointer;display: block;width: 100%;margin-bottom: 0;padding: 0.3em;box-sizing: border-box;text-align: center;}#sk-container-id-3 label.sk-toggleable__label-arrow:before {content: \"▸\";float: left;margin-right: 0.25em;color: #696969;}#sk-container-id-3 label.sk-toggleable__label-arrow:hover:before {color: black;}#sk-container-id-3 div.sk-estimator:hover label.sk-toggleable__label-arrow:before {color: black;}#sk-container-id-3 div.sk-toggleable__content {max-height: 0;max-width: 0;overflow: hidden;text-align: left;background-color: #f0f8ff;}#sk-container-id-3 div.sk-toggleable__content pre {margin: 0.2em;color: black;border-radius: 0.25em;background-color: #f0f8ff;}#sk-container-id-3 input.sk-toggleable__control:checked~div.sk-toggleable__content {max-height: 200px;max-width: 100%;overflow: auto;}#sk-container-id-3 input.sk-toggleable__control:checked~label.sk-toggleable__label-arrow:before {content: \"▾\";}#sk-container-id-3 div.sk-estimator input.sk-toggleable__control:checked~label.sk-toggleable__label {background-color: #d4ebff;}#sk-container-id-3 div.sk-label input.sk-toggleable__control:checked~label.sk-toggleable__label {background-color: #d4ebff;}#sk-container-id-3 input.sk-hidden--visually {border: 0;clip: rect(1px 1px 1px 1px);clip: rect(1px, 1px, 1px, 1px);height: 1px;margin: -1px;overflow: hidden;padding: 0;position: absolute;width: 1px;}#sk-container-id-3 div.sk-estimator {font-family: monospace;background-color: #f0f8ff;border: 1px dotted black;border-radius: 0.25em;box-sizing: border-box;margin-bottom: 0.5em;}#sk-container-id-3 div.sk-estimator:hover {background-color: #d4ebff;}#sk-container-id-3 div.sk-parallel-item::after {content: \"\";width: 100%;border-bottom: 1px solid gray;flex-grow: 1;}#sk-container-id-3 div.sk-label:hover label.sk-toggleable__label {background-color: #d4ebff;}#sk-container-id-3 div.sk-serial::before {content: \"\";position: absolute;border-left: 1px solid gray;box-sizing: border-box;top: 0;bottom: 0;left: 50%;z-index: 0;}#sk-container-id-3 div.sk-serial {display: flex;flex-direction: column;align-items: center;background-color: white;padding-right: 0.2em;padding-left: 0.2em;position: relative;}#sk-container-id-3 div.sk-item {position: relative;z-index: 1;}#sk-container-id-3 div.sk-parallel {display: flex;align-items: stretch;justify-content: center;background-color: white;position: relative;}#sk-container-id-3 div.sk-item::before, #sk-container-id-3 div.sk-parallel-item::before {content: \"\";position: absolute;border-left: 1px solid gray;box-sizing: border-box;top: 0;bottom: 0;left: 50%;z-index: -1;}#sk-container-id-3 div.sk-parallel-item {display: flex;flex-direction: column;z-index: 1;position: relative;background-color: white;}#sk-container-id-3 div.sk-parallel-item:first-child::after {align-self: flex-end;width: 50%;}#sk-container-id-3 div.sk-parallel-item:last-child::after {align-self: flex-start;width: 50%;}#sk-container-id-3 div.sk-parallel-item:only-child::after {width: 0;}#sk-container-id-3 div.sk-dashed-wrapped {border: 1px dashed gray;margin: 0 0.4em 0.5em 0.4em;box-sizing: border-box;padding-bottom: 0.4em;background-color: white;}#sk-container-id-3 div.sk-label label {font-family: monospace;font-weight: bold;display: inline-block;line-height: 1.2em;}#sk-container-id-3 div.sk-label-container {text-align: center;}#sk-container-id-3 div.sk-container {/* jupyter's `normalize.less` sets `[hidden] { display: none; }` but bootstrap.min.css set `[hidden] { display: none !important; }` so we also need the `!important` here to be able to override the default hidden behavior on the sphinx rendered scikit-learn.org. See: https://github.com/scikit-learn/scikit-learn/issues/21755 */display: inline-block !important;position: relative;}#sk-container-id-3 div.sk-text-repr-fallback {display: none;}</style><div id=\"sk-container-id-3\" class=\"sk-top-container\"><div class=\"sk-text-repr-fallback\"><pre>QuadraticDiscriminantAnalysis(priors=None, reg_param=0.0,\n",
       "                              store_covariance=False, tol=0.0001)</pre><b>In a Jupyter environment, please rerun this cell to show the HTML representation or trust the notebook. <br />On GitHub, the HTML representation is unable to render, please try loading this page with nbviewer.org.</b></div><div class=\"sk-container\" hidden><div class=\"sk-item\"><div class=\"sk-estimator sk-toggleable\"><input class=\"sk-toggleable__control sk-hidden--visually\" id=\"sk-estimator-id-3\" type=\"checkbox\" checked><label for=\"sk-estimator-id-3\" class=\"sk-toggleable__label sk-toggleable__label-arrow\">QuadraticDiscriminantAnalysis</label><div class=\"sk-toggleable__content\"><pre>QuadraticDiscriminantAnalysis(priors=None, reg_param=0.0,\n",
       "                              store_covariance=False, tol=0.0001)</pre></div></div></div></div></div>"
      ],
      "text/plain": [
       "QuadraticDiscriminantAnalysis(priors=None, reg_param=0.0,\n",
       "                              store_covariance=False, tol=0.0001)"
      ]
     },
     "execution_count": 44,
     "metadata": {},
     "output_type": "execute_result"
    }
   ],
   "source": [
    "qda_clf.fit(X_train, y_train)"
   ]
  },
  {
   "cell_type": "code",
   "execution_count": 52,
   "id": "93525c99",
   "metadata": {},
   "outputs": [
    {
     "data": {
      "text/plain": [
       "array([2, 1, 0, 1, 2, 0, 1, 1, 0, 1, 1, 1, 0, 2, 0])"
      ]
     },
     "execution_count": 52,
     "metadata": {},
     "output_type": "execute_result"
    }
   ],
   "source": [
    "y_pred = qda_clf.predict(X_test)\n",
    "y_pred"
   ]
  },
  {
   "cell_type": "code",
   "execution_count": 54,
   "id": "f02ebe13",
   "metadata": {},
   "outputs": [
    {
     "name": "stdout",
     "output_type": "stream",
     "text": [
      "              precision    recall  f1-score   support\n",
      "\n",
      "      setosa       1.00      1.00      1.00         5\n",
      "  versicolor       1.00      1.00      1.00         7\n",
      "   virginica       1.00      1.00      1.00         3\n",
      "\n",
      "    accuracy                           1.00        15\n",
      "   macro avg       1.00      1.00      1.00        15\n",
      "weighted avg       1.00      1.00      1.00        15\n",
      "\n"
     ]
    }
   ],
   "source": [
    "print(classification_report(y_test, y_pred, target_names=data[\"target_names\"]))"
   ]
  },
  {
   "cell_type": "markdown",
   "id": "f3db53a7",
   "metadata": {},
   "source": [
    "The best trained model was Quadratic Discriminant Analysis. Now, this model will be deployed as a service using BentoML, training over the whole dataset."
   ]
  },
  {
   "cell_type": "code",
   "execution_count": null,
   "id": "0a4850d4",
   "metadata": {},
   "outputs": [],
   "source": []
  }
 ],
 "metadata": {
  "kernelspec": {
   "display_name": "Python (mlops)",
   "language": "python",
   "name": "mlops"
  },
  "language_info": {
   "codemirror_mode": {
    "name": "ipython",
    "version": 3
   },
   "file_extension": ".py",
   "mimetype": "text/x-python",
   "name": "python",
   "nbconvert_exporter": "python",
   "pygments_lexer": "ipython3",
   "version": "3.10.8"
  }
 },
 "nbformat": 4,
 "nbformat_minor": 5
}
